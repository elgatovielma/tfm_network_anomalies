{
 "cells": [
  {
   "cell_type": "code",
   "execution_count": 148,
   "metadata": {},
   "outputs": [],
   "source": [
    "import numpy as np\n",
    "import pandas as pd\n",
    "import matplotlib.pyplot as plt\n",
    "\n",
    "from sklearn.model_selection import train_test_split\n",
    "from sklearn import  preprocessing\n",
    "from sklearn.metrics import accuracy_score\n",
    "from sklearn.metrics import precision_score\n",
    "from sklearn.metrics import recall_score\n",
    "from sklearn.metrics import f1_score\n",
    "from sklearn.metrics import cohen_kappa_score\n",
    "from sklearn.metrics import roc_auc_score\n",
    "\n",
    "import tensorflow as tf\n",
    "from tensorflow.keras.datasets import fashion_mnist\n",
    "from tensorflow.keras.models import Sequential\n",
    "from tensorflow.keras.layers import Dense, Activation, Dropout\n",
    "from tensorflow.keras.optimizers import Adam, RMSprop\n",
    "from tensorflow.keras.utils import to_categorical, plot_model\n",
    "from tensorflow.keras.callbacks import EarlyStopping"
   ]
  },
  {
   "cell_type": "code",
   "execution_count": 149,
   "metadata": {},
   "outputs": [
    {
     "name": "stdout",
     "output_type": "stream",
     "text": [
      "Num GPUs Available:  1\n",
      "[PhysicalDevice(name='/physical_device:GPU:0', device_type='GPU')]\n"
     ]
    }
   ],
   "source": [
    "print(\"Num GPUs Available: \", len(tf.config.list_physical_devices('GPU')))\n",
    "print(tf.config.list_physical_devices('GPU'))"
   ]
  },
  {
   "cell_type": "code",
   "execution_count": 150,
   "metadata": {},
   "outputs": [],
   "source": [
    "def plot_acc(history, title=\"Model Accuracy\"):\n",
    "    \"\"\"Imprime una gráfica mostrando la accuracy por epoch obtenida en un entrenamiento\"\"\"\n",
    "    plt.plot(history.history['accuracy'])\n",
    "    plt.plot(history.history['val_accuracy'])\n",
    "    plt.title(title)\n",
    "    plt.ylabel('Accuracy')\n",
    "    plt.xlabel('Epoch')\n",
    "    plt.legend(['Train', 'Val'], loc='upper left')\n",
    "    plt.show()\n",
    "    \n",
    "def plot_loss(history, title=\"Model Loss\"):\n",
    "    \"\"\"Imprime una gráfica mostrando la pérdida por epoch obtenida en un entrenamiento\"\"\"\n",
    "    plt.plot(history.history['loss'])\n",
    "    plt.plot(history.history['val_loss'])\n",
    "    plt.title(title)\n",
    "    plt.ylabel('Loss')\n",
    "    plt.xlabel('Epoch')\n",
    "    plt.legend(['Train', 'Val'], loc='upper right')\n",
    "    plt.show()"
   ]
  },
  {
   "cell_type": "code",
   "execution_count": 151,
   "metadata": {},
   "outputs": [],
   "source": [
    "mainpath=\"../NSL-KDD/\"\n",
    "transformed_datasets_folder = \"transformed_datasets/\"\n",
    "file_complete_traffic = \"complete_traffic.csv\"\n",
    "csv_path = mainpath + transformed_datasets_folder + file_complete_traffic"
   ]
  },
  {
   "cell_type": "code",
   "execution_count": 152,
   "metadata": {},
   "outputs": [
    {
     "data": {
      "text/html": [
       "<div>\n",
       "<style scoped>\n",
       "    .dataframe tbody tr th:only-of-type {\n",
       "        vertical-align: middle;\n",
       "    }\n",
       "\n",
       "    .dataframe tbody tr th {\n",
       "        vertical-align: top;\n",
       "    }\n",
       "\n",
       "    .dataframe thead th {\n",
       "        text-align: right;\n",
       "    }\n",
       "</style>\n",
       "<table border=\"1\" class=\"dataframe\">\n",
       "  <thead>\n",
       "    <tr style=\"text-align: right;\">\n",
       "      <th></th>\n",
       "      <th>duration</th>\n",
       "      <th>protocol_type</th>\n",
       "      <th>service</th>\n",
       "      <th>flag</th>\n",
       "      <th>src_bytes</th>\n",
       "      <th>dst_bytes</th>\n",
       "      <th>land</th>\n",
       "      <th>wrong_fragment</th>\n",
       "      <th>urgent</th>\n",
       "      <th>hot</th>\n",
       "      <th>...</th>\n",
       "      <th>dst_host_srv_count</th>\n",
       "      <th>dst_host_same_srv_rate</th>\n",
       "      <th>dst_host_diff_srv_rate</th>\n",
       "      <th>dst_host_same_src_port_rate</th>\n",
       "      <th>dst_host_srv_diff_host_rate</th>\n",
       "      <th>dst_host_serror_rate</th>\n",
       "      <th>dst_host_srv_serror_rate</th>\n",
       "      <th>dst_host_rerror_rate</th>\n",
       "      <th>dst_host_srv_rerror_rate</th>\n",
       "      <th>class</th>\n",
       "    </tr>\n",
       "  </thead>\n",
       "  <tbody>\n",
       "    <tr>\n",
       "      <th>0</th>\n",
       "      <td>0.0</td>\n",
       "      <td>1</td>\n",
       "      <td>20</td>\n",
       "      <td>9</td>\n",
       "      <td>491.0</td>\n",
       "      <td>0.0</td>\n",
       "      <td>0</td>\n",
       "      <td>0.0</td>\n",
       "      <td>0.0</td>\n",
       "      <td>0.0</td>\n",
       "      <td>...</td>\n",
       "      <td>25.0</td>\n",
       "      <td>0.17</td>\n",
       "      <td>0.03</td>\n",
       "      <td>0.17</td>\n",
       "      <td>0.00</td>\n",
       "      <td>0.00</td>\n",
       "      <td>0.00</td>\n",
       "      <td>0.05</td>\n",
       "      <td>0.00</td>\n",
       "      <td>0</td>\n",
       "    </tr>\n",
       "    <tr>\n",
       "      <th>1</th>\n",
       "      <td>0.0</td>\n",
       "      <td>2</td>\n",
       "      <td>44</td>\n",
       "      <td>9</td>\n",
       "      <td>146.0</td>\n",
       "      <td>0.0</td>\n",
       "      <td>0</td>\n",
       "      <td>0.0</td>\n",
       "      <td>0.0</td>\n",
       "      <td>0.0</td>\n",
       "      <td>...</td>\n",
       "      <td>1.0</td>\n",
       "      <td>0.00</td>\n",
       "      <td>0.60</td>\n",
       "      <td>0.88</td>\n",
       "      <td>0.00</td>\n",
       "      <td>0.00</td>\n",
       "      <td>0.00</td>\n",
       "      <td>0.00</td>\n",
       "      <td>0.00</td>\n",
       "      <td>0</td>\n",
       "    </tr>\n",
       "    <tr>\n",
       "      <th>2</th>\n",
       "      <td>0.0</td>\n",
       "      <td>1</td>\n",
       "      <td>49</td>\n",
       "      <td>5</td>\n",
       "      <td>0.0</td>\n",
       "      <td>0.0</td>\n",
       "      <td>0</td>\n",
       "      <td>0.0</td>\n",
       "      <td>0.0</td>\n",
       "      <td>0.0</td>\n",
       "      <td>...</td>\n",
       "      <td>26.0</td>\n",
       "      <td>0.10</td>\n",
       "      <td>0.05</td>\n",
       "      <td>0.00</td>\n",
       "      <td>0.00</td>\n",
       "      <td>1.00</td>\n",
       "      <td>1.00</td>\n",
       "      <td>0.00</td>\n",
       "      <td>0.00</td>\n",
       "      <td>1</td>\n",
       "    </tr>\n",
       "    <tr>\n",
       "      <th>3</th>\n",
       "      <td>0.0</td>\n",
       "      <td>1</td>\n",
       "      <td>24</td>\n",
       "      <td>9</td>\n",
       "      <td>232.0</td>\n",
       "      <td>8153.0</td>\n",
       "      <td>0</td>\n",
       "      <td>0.0</td>\n",
       "      <td>0.0</td>\n",
       "      <td>0.0</td>\n",
       "      <td>...</td>\n",
       "      <td>255.0</td>\n",
       "      <td>1.00</td>\n",
       "      <td>0.00</td>\n",
       "      <td>0.03</td>\n",
       "      <td>0.04</td>\n",
       "      <td>0.03</td>\n",
       "      <td>0.01</td>\n",
       "      <td>0.00</td>\n",
       "      <td>0.01</td>\n",
       "      <td>0</td>\n",
       "    </tr>\n",
       "    <tr>\n",
       "      <th>4</th>\n",
       "      <td>0.0</td>\n",
       "      <td>1</td>\n",
       "      <td>24</td>\n",
       "      <td>9</td>\n",
       "      <td>199.0</td>\n",
       "      <td>420.0</td>\n",
       "      <td>0</td>\n",
       "      <td>0.0</td>\n",
       "      <td>0.0</td>\n",
       "      <td>0.0</td>\n",
       "      <td>...</td>\n",
       "      <td>255.0</td>\n",
       "      <td>1.00</td>\n",
       "      <td>0.00</td>\n",
       "      <td>0.00</td>\n",
       "      <td>0.00</td>\n",
       "      <td>0.00</td>\n",
       "      <td>0.00</td>\n",
       "      <td>0.00</td>\n",
       "      <td>0.00</td>\n",
       "      <td>0</td>\n",
       "    </tr>\n",
       "  </tbody>\n",
       "</table>\n",
       "<p>5 rows × 42 columns</p>\n",
       "</div>"
      ],
      "text/plain": [
       "   duration  protocol_type  service  flag  src_bytes  dst_bytes  land  \\\n",
       "0       0.0              1       20     9      491.0        0.0     0   \n",
       "1       0.0              2       44     9      146.0        0.0     0   \n",
       "2       0.0              1       49     5        0.0        0.0     0   \n",
       "3       0.0              1       24     9      232.0     8153.0     0   \n",
       "4       0.0              1       24     9      199.0      420.0     0   \n",
       "\n",
       "   wrong_fragment  urgent  hot  ...  dst_host_srv_count  \\\n",
       "0             0.0     0.0  0.0  ...                25.0   \n",
       "1             0.0     0.0  0.0  ...                 1.0   \n",
       "2             0.0     0.0  0.0  ...                26.0   \n",
       "3             0.0     0.0  0.0  ...               255.0   \n",
       "4             0.0     0.0  0.0  ...               255.0   \n",
       "\n",
       "   dst_host_same_srv_rate  dst_host_diff_srv_rate  \\\n",
       "0                    0.17                    0.03   \n",
       "1                    0.00                    0.60   \n",
       "2                    0.10                    0.05   \n",
       "3                    1.00                    0.00   \n",
       "4                    1.00                    0.00   \n",
       "\n",
       "   dst_host_same_src_port_rate  dst_host_srv_diff_host_rate  \\\n",
       "0                         0.17                         0.00   \n",
       "1                         0.88                         0.00   \n",
       "2                         0.00                         0.00   \n",
       "3                         0.03                         0.04   \n",
       "4                         0.00                         0.00   \n",
       "\n",
       "   dst_host_serror_rate  dst_host_srv_serror_rate  dst_host_rerror_rate  \\\n",
       "0                  0.00                      0.00                  0.05   \n",
       "1                  0.00                      0.00                  0.00   \n",
       "2                  1.00                      1.00                  0.00   \n",
       "3                  0.03                      0.01                  0.00   \n",
       "4                  0.00                      0.00                  0.00   \n",
       "\n",
       "   dst_host_srv_rerror_rate  class  \n",
       "0                      0.00      0  \n",
       "1                      0.00      0  \n",
       "2                      0.00      1  \n",
       "3                      0.01      0  \n",
       "4                      0.00      0  \n",
       "\n",
       "[5 rows x 42 columns]"
      ]
     },
     "execution_count": 152,
     "metadata": {},
     "output_type": "execute_result"
    }
   ],
   "source": [
    "df = pd.read_csv(csv_path)\n",
    "df.head()"
   ]
  },
  {
   "cell_type": "code",
   "execution_count": 153,
   "metadata": {},
   "outputs": [],
   "source": [
    "np_array = df.to_numpy()\n",
    "class_label = np_array[:, -1] # for last column\n",
    "data = np_array[:, :-1] # for all but last column"
   ]
  },
  {
   "cell_type": "code",
   "execution_count": 154,
   "metadata": {},
   "outputs": [
    {
     "name": "stdout",
     "output_type": "stream",
     "text": [
      "148517\n",
      "133665\n"
     ]
    }
   ],
   "source": [
    "X_train, X_test, y_train, y_test = train_test_split(data, class_label, test_size=0.1, random_state=42)\n",
    "print(len(data))\n",
    "print(len(X_train))"
   ]
  },
  {
   "cell_type": "code",
   "execution_count": 155,
   "metadata": {},
   "outputs": [
    {
     "name": "stdout",
     "output_type": "stream",
     "text": [
      "30743\n",
      "102922\n"
     ]
    }
   ],
   "source": [
    "# 0,9*0,23 = 0,207\n",
    "X_train, X_val, y_train, y_val  = train_test_split(X_train, y_train, test_size=0.23, random_state=42)\n",
    "print(len(X_val))\n",
    "print(len(X_train))"
   ]
  },
  {
   "cell_type": "code",
   "execution_count": 156,
   "metadata": {},
   "outputs": [],
   "source": [
    "y_train = to_categorical(y_train)\n",
    "#y_test = to_categorical(y_test)\n",
    "y_val = to_categorical(y_val)"
   ]
  },
  {
   "cell_type": "code",
   "execution_count": 157,
   "metadata": {},
   "outputs": [],
   "source": [
    "X_train = preprocessing.normalize(X_train,norm='l2')\n",
    "X_test = preprocessing.normalize(X_test,norm='l2')\n",
    "X_val = preprocessing.normalize(X_val,norm='l2')"
   ]
  },
  {
   "cell_type": "code",
   "execution_count": 158,
   "metadata": {},
   "outputs": [],
   "source": [
    "# Parametros de la red\n",
    "batch_size = 64\n",
    "epochs = 50\n",
    "hidden_units_1 = 16\n",
    "hidden_units_2 = 8\n",
    "hidden_units_3 = 8\n",
    "hidden_units_4 = 64\n",
    "num_labels = len(np.unique(y_train, return_counts=False))\n",
    "input_size = data.shape[1]\n",
    "activation_type = \"relu\"\n",
    "kernel_init = \"glorot_uniform\"\n",
    "patience = 5\n",
    "regularization_parameter = 0.0001\n",
    "dropout_parameter = 0.4\n"
   ]
  },
  {
   "cell_type": "code",
   "execution_count": 159,
   "metadata": {},
   "outputs": [],
   "source": [
    "model = Sequential([\n",
    "    Dense(hidden_units_1, input_dim=input_size, activation=activation_type, kernel_initializer=kernel_init,  \n",
    "          kernel_regularizer=tf.keras.regularizers.l1(regularization_parameter)\n",
    "      ),\n",
    "    Dropout(dropout_parameter),\n",
    "    Dense(hidden_units_2, activation=activation_type, kernel_initializer=kernel_init, \n",
    "          kernel_regularizer=tf.keras.regularizers.l1(regularization_parameter) \n",
    "    ),\n",
    "    #Dropout(dropout_parameter),\n",
    "    #Dense(hidden_units_3, activation=activation_type, kernel_initializer=kernel_init,\n",
    "    #      kernel_regularizer=tf.keras.regularizers.l1(0.005)\n",
    "    #),\n",
    "    #Dense(hidden_units_4, activation=activation_type, kernel_initializer=kernel_init),\n",
    "    Dense(num_labels, activation='softmax')\n",
    "])"
   ]
  },
  {
   "cell_type": "code",
   "execution_count": 160,
   "metadata": {},
   "outputs": [],
   "source": [
    "model.compile(loss='categorical_crossentropy', optimizer=\"adam\",metrics=['accuracy'])"
   ]
  },
  {
   "cell_type": "code",
   "execution_count": 161,
   "metadata": {},
   "outputs": [],
   "source": [
    "es = EarlyStopping(monitor='val_loss', mode='min', verbose=1, patience=patience)"
   ]
  },
  {
   "cell_type": "code",
   "execution_count": 162,
   "metadata": {},
   "outputs": [
    {
     "name": "stdout",
     "output_type": "stream",
     "text": [
      "Epoch 1/50\n",
      "1609/1609 [==============================] - 7s 4ms/step - loss: 0.3092 - accuracy: 0.8764 - val_loss: 0.2180 - val_accuracy: 0.9242\n",
      "Epoch 2/50\n",
      "1609/1609 [==============================] - 7s 4ms/step - loss: 0.2304 - accuracy: 0.9114 - val_loss: 0.1874 - val_accuracy: 0.9349\n",
      "Epoch 3/50\n",
      "1609/1609 [==============================] - 7s 4ms/step - loss: 0.2098 - accuracy: 0.9187 - val_loss: 0.1725 - val_accuracy: 0.9391\n",
      "Epoch 4/50\n",
      "1609/1609 [==============================] - 8s 5ms/step - loss: 0.1979 - accuracy: 0.9222 - val_loss: 0.1634 - val_accuracy: 0.9388\n",
      "Epoch 5/50\n",
      "1609/1609 [==============================] - 7s 5ms/step - loss: 0.1912 - accuracy: 0.9253 - val_loss: 0.1571 - val_accuracy: 0.9370\n",
      "Epoch 6/50\n",
      "1609/1609 [==============================] - 8s 5ms/step - loss: 0.1838 - accuracy: 0.9280 - val_loss: 0.1499 - val_accuracy: 0.9459\n",
      "Epoch 7/50\n",
      "1609/1609 [==============================] - 7s 4ms/step - loss: 0.1774 - accuracy: 0.9305 - val_loss: 0.1493 - val_accuracy: 0.9467\n",
      "Epoch 8/50\n",
      "1609/1609 [==============================] - 8s 5ms/step - loss: 0.1731 - accuracy: 0.9323 - val_loss: 0.1423 - val_accuracy: 0.9475\n",
      "Epoch 9/50\n",
      "1609/1609 [==============================] - 7s 5ms/step - loss: 0.1690 - accuracy: 0.9334 - val_loss: 0.1399 - val_accuracy: 0.9494\n",
      "Epoch 10/50\n",
      "1609/1609 [==============================] - 6s 4ms/step - loss: 0.1655 - accuracy: 0.9354 - val_loss: 0.1366 - val_accuracy: 0.9498\n",
      "Epoch 11/50\n",
      "1609/1609 [==============================] - 7s 5ms/step - loss: 0.1624 - accuracy: 0.9371 - val_loss: 0.1288 - val_accuracy: 0.9533\n",
      "Epoch 12/50\n",
      "1609/1609 [==============================] - 7s 4ms/step - loss: 0.1596 - accuracy: 0.9381 - val_loss: 0.1295 - val_accuracy: 0.9520\n",
      "Epoch 13/50\n",
      "1609/1609 [==============================] - 7s 4ms/step - loss: 0.1583 - accuracy: 0.9396 - val_loss: 0.1283 - val_accuracy: 0.9508\n",
      "Epoch 14/50\n",
      "1609/1609 [==============================] - 7s 4ms/step - loss: 0.1561 - accuracy: 0.9414 - val_loss: 0.1231 - val_accuracy: 0.9660\n",
      "Epoch 15/50\n",
      "1609/1609 [==============================] - 7s 4ms/step - loss: 0.1544 - accuracy: 0.9422 - val_loss: 0.1220 - val_accuracy: 0.9541\n",
      "Epoch 16/50\n",
      "1609/1609 [==============================] - 7s 4ms/step - loss: 0.1535 - accuracy: 0.9428 - val_loss: 0.1185 - val_accuracy: 0.9642\n",
      "Epoch 17/50\n",
      "1609/1609 [==============================] - 7s 4ms/step - loss: 0.1516 - accuracy: 0.9449 - val_loss: 0.1184 - val_accuracy: 0.9642\n",
      "Epoch 18/50\n",
      "1609/1609 [==============================] - 7s 4ms/step - loss: 0.1511 - accuracy: 0.9445 - val_loss: 0.1170 - val_accuracy: 0.9645\n",
      "Epoch 19/50\n",
      "1609/1609 [==============================] - 7s 4ms/step - loss: 0.1505 - accuracy: 0.9450 - val_loss: 0.1164 - val_accuracy: 0.9630\n",
      "Epoch 20/50\n",
      "1609/1609 [==============================] - 7s 4ms/step - loss: 0.1500 - accuracy: 0.9449 - val_loss: 0.1162 - val_accuracy: 0.9634\n",
      "Epoch 21/50\n",
      "1609/1609 [==============================] - 7s 4ms/step - loss: 0.1482 - accuracy: 0.9459 - val_loss: 0.1169 - val_accuracy: 0.9639\n",
      "Epoch 22/50\n",
      "1609/1609 [==============================] - 7s 4ms/step - loss: 0.1477 - accuracy: 0.9464 - val_loss: 0.1130 - val_accuracy: 0.9675\n",
      "Epoch 23/50\n",
      "1609/1609 [==============================] - 7s 4ms/step - loss: 0.1492 - accuracy: 0.9463 - val_loss: 0.1132 - val_accuracy: 0.9643\n",
      "Epoch 24/50\n",
      "1609/1609 [==============================] - 7s 4ms/step - loss: 0.1479 - accuracy: 0.9461 - val_loss: 0.1110 - val_accuracy: 0.9672\n",
      "Epoch 25/50\n",
      "1609/1609 [==============================] - 7s 4ms/step - loss: 0.1470 - accuracy: 0.9474 - val_loss: 0.1181 - val_accuracy: 0.9626\n",
      "Epoch 26/50\n",
      "1609/1609 [==============================] - 7s 4ms/step - loss: 0.1481 - accuracy: 0.9471 - val_loss: 0.1150 - val_accuracy: 0.9635\n",
      "Epoch 27/50\n",
      "1609/1609 [==============================] - 7s 4ms/step - loss: 0.1452 - accuracy: 0.9480 - val_loss: 0.1119 - val_accuracy: 0.9645\n",
      "Epoch 28/50\n",
      "1609/1609 [==============================] - 7s 4ms/step - loss: 0.1465 - accuracy: 0.9475 - val_loss: 0.1097 - val_accuracy: 0.9651\n",
      "Epoch 29/50\n",
      "1609/1609 [==============================] - 7s 5ms/step - loss: 0.1464 - accuracy: 0.9482 - val_loss: 0.1112 - val_accuracy: 0.9686\n",
      "Epoch 30/50\n",
      "1609/1609 [==============================] - 7s 4ms/step - loss: 0.1453 - accuracy: 0.9479 - val_loss: 0.1111 - val_accuracy: 0.9662\n",
      "Epoch 31/50\n",
      "1609/1609 [==============================] - 7s 5ms/step - loss: 0.1455 - accuracy: 0.9486 - val_loss: 0.1117 - val_accuracy: 0.9655\n",
      "Epoch 32/50\n",
      "1609/1609 [==============================] - 8s 5ms/step - loss: 0.1450 - accuracy: 0.9479 - val_loss: 0.1102 - val_accuracy: 0.9649\n",
      "Epoch 33/50\n",
      "1609/1609 [==============================] - 7s 5ms/step - loss: 0.1444 - accuracy: 0.9482 - val_loss: 0.1091 - val_accuracy: 0.9673\n",
      "Epoch 34/50\n",
      "1609/1609 [==============================] - 8s 5ms/step - loss: 0.1456 - accuracy: 0.9484 - val_loss: 0.1093 - val_accuracy: 0.9694\n",
      "Epoch 35/50\n",
      "1609/1609 [==============================] - 8s 5ms/step - loss: 0.1443 - accuracy: 0.9488 - val_loss: 0.1119 - val_accuracy: 0.9657\n",
      "Epoch 36/50\n",
      "1609/1609 [==============================] - 8s 5ms/step - loss: 0.1430 - accuracy: 0.9491 - val_loss: 0.1104 - val_accuracy: 0.9656\n",
      "Epoch 37/50\n",
      "1609/1609 [==============================] - 7s 5ms/step - loss: 0.1429 - accuracy: 0.9505 - val_loss: 0.1089 - val_accuracy: 0.9673\n",
      "Epoch 38/50\n",
      "1609/1609 [==============================] - 8s 5ms/step - loss: 0.1433 - accuracy: 0.9491 - val_loss: 0.1144 - val_accuracy: 0.9642\n",
      "Epoch 39/50\n",
      "1609/1609 [==============================] - 9s 5ms/step - loss: 0.1432 - accuracy: 0.9497 - val_loss: 0.1080 - val_accuracy: 0.9655\n",
      "Epoch 40/50\n",
      "1609/1609 [==============================] - 9s 5ms/step - loss: 0.1420 - accuracy: 0.9502 - val_loss: 0.1074 - val_accuracy: 0.9669\n",
      "Epoch 41/50\n",
      "1609/1609 [==============================] - 8s 5ms/step - loss: 0.1422 - accuracy: 0.9499 - val_loss: 0.1095 - val_accuracy: 0.9652\n",
      "Epoch 42/50\n",
      "1609/1609 [==============================] - 9s 5ms/step - loss: 0.1428 - accuracy: 0.9497 - val_loss: 0.1098 - val_accuracy: 0.9663\n",
      "Epoch 43/50\n",
      "1609/1609 [==============================] - 9s 5ms/step - loss: 0.1416 - accuracy: 0.9503 - val_loss: 0.1092 - val_accuracy: 0.9659\n",
      "Epoch 44/50\n",
      "1609/1609 [==============================] - 8s 5ms/step - loss: 0.1426 - accuracy: 0.9493 - val_loss: 0.1077 - val_accuracy: 0.9667\n",
      "Epoch 45/50\n",
      "1609/1609 [==============================] - 7s 4ms/step - loss: 0.1409 - accuracy: 0.9508 - val_loss: 0.1078 - val_accuracy: 0.9662\n",
      "Epoch 00045: early stopping\n"
     ]
    }
   ],
   "source": [
    "history = model.fit(X_train, y_train, \n",
    "              epochs=epochs, \n",
    "              validation_data=(X_val, y_val),\n",
    "              batch_size=batch_size,\n",
    "              callbacks=[es]\n",
    "          )"
   ]
  },
  {
   "cell_type": "code",
   "execution_count": 163,
   "metadata": {},
   "outputs": [
    {
     "data": {
      "image/png": "[encoded data removed]",
      "text/plain": [
       "<Figure size 432x288 with 1 Axes>"
      ]
     },
     "metadata": {
      "needs_background": "light"
     },
     "output_type": "display_data"
    },
    {
     "data": {
      "image/png": "[encoded data removed]",
      "text/plain": [
       "<Figure size 432x288 with 1 Axes>"
      ]
     },
     "metadata": {
      "needs_background": "light"
     },
     "output_type": "display_data"
    }
   ],
   "source": [
    "plot_acc(history)\n",
    "plot_loss(history)"
   ]
  },
  {
   "cell_type": "code",
   "execution_count": 175,
   "metadata": {},
   "outputs": [
    {
     "name": "stdout",
     "output_type": "stream",
     "text": [
      "233/233 [==============================] - 1s 3ms/step - loss: 0.1125 - accuracy: 0.9653\n",
      "Accuracy Test sample: 96.5%\n"
     ]
    }
   ],
   "source": [
    "y_test_cat = to_categorical(y_test)\n",
    "_, acc = model.evaluate(X_test, y_test_cat, batch_size=batch_size)\n",
    "print(\"Accuracy Test sample: %.1f%%\" % (100.0 * acc))"
   ]
  },
  {
   "cell_type": "code",
   "execution_count": 169,
   "metadata": {},
   "outputs": [],
   "source": [
    "# predict crisp classes for test set\n",
    "y_predicted_classes = np.argmax(model.predict(X_test), axis=-1)"
   ]
  },
  {
   "cell_type": "code",
   "execution_count": 173,
   "metadata": {},
   "outputs": [
    {
     "name": "stdout",
     "output_type": "stream",
     "text": [
      "Accuracy Test sample: 96.5%\n",
      "Precision Test sample: 98.5%\n",
      "Recall Test sample: 94.2%\n",
      "F1 score Test sample: 96.3%\n"
     ]
    }
   ],
   "source": [
    "# accuracy: (tp + tn) / (p + n)\n",
    "accuracy = accuracy_score(y_test, y_predicted_classes)\n",
    "print(\"Accuracy Test sample: %.1f%%\" % (100.0 * accuracy))\n",
    "\n",
    "# precision tp / (tp + fp)\n",
    "precision = precision_score(y_test, y_predicted_classes)\n",
    "print(\"Precision Test sample: %.1f%%\" % (100.0 * precision))\n",
    "\n",
    "# recall: tp / (tp + fn)\n",
    "recall = recall_score(y_test, y_predicted_classes)\n",
    "print(\"Recall Test sample: %.1f%%\" % (100.0 * recall))\n",
    "\n",
    "# f1: 2 tp / (2 tp + fp + fn)\n",
    "f1 = f1_score(y_test, y_predicted_classes)\n",
    "print(\"F1 score Test sample: %.1f%%\" % (100.0 * f1))"
   ]
  }
 ],
 "metadata": {
  "interpreter": {
   "hash": "36abd7d1b7dbc5692ba9d1c22153e50a482f68c0f1d917d7a39ad57557cd2160"
  },
  "kernelspec": {
   "display_name": "Python 3.9.7 ('tf_gpu')",
   "language": "python",
   "name": "python3"
  },
  "language_info": {
   "codemirror_mode": {
    "name": "ipython",
    "version": 3
   },
   "file_extension": ".py",
   "mimetype": "text/x-python",
   "name": "python",
   "nbconvert_exporter": "python",
   "pygments_lexer": "ipython3",
   "version": "3.9.7"
  },
  "orig_nbformat": 4
 },
 "nbformat": 4,
 "nbformat_minor": 2
}
