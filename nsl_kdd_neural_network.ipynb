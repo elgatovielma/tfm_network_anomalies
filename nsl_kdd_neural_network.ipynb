{
 "cells": [
  {
   "cell_type": "code",
   "execution_count": 1,
   "metadata": {},
   "outputs": [],
   "source": [
    "import numpy as np\n",
    "import pandas as pd\n",
    "import matplotlib.pyplot as plt\n",
    "\n",
    "from sklearn.model_selection import train_test_split\n",
    "from sklearn import  preprocessing\n",
    "from sklearn.metrics import accuracy_score\n",
    "from sklearn.metrics import precision_score\n",
    "from sklearn.metrics import recall_score\n",
    "from sklearn.metrics import f1_score\n",
    "\n",
    "import tensorflow as tf\n",
    "from tensorflow.keras.models import Sequential\n",
    "from tensorflow.keras.layers import Dense, Dropout\n",
    "from tensorflow.keras.utils import to_categorical\n",
    "from tensorflow.keras.callbacks import EarlyStopping"
   ]
  },
  {
   "cell_type": "code",
   "execution_count": 2,
   "metadata": {},
   "outputs": [
    {
     "name": "stdout",
     "output_type": "stream",
     "text": [
      "Num GPUs Available:  1\n",
      "[PhysicalDevice(name='/physical_device:GPU:0', device_type='GPU')]\n"
     ]
    }
   ],
   "source": [
    "print(\"Num GPUs Available: \", len(tf.config.list_physical_devices('GPU')))\n",
    "print(tf.config.list_physical_devices('GPU'))"
   ]
  },
  {
   "cell_type": "code",
   "execution_count": 22,
   "metadata": {},
   "outputs": [],
   "source": [
    "def plot_acc(history, title=\"Model Accuracy\", range=[0,1]):\n",
    "    \"\"\"Imprime una gráfica mostrando la accuracy por epoch obtenida en un entrenamiento\"\"\"\n",
    "    plt.plot(history.history['accuracy'])\n",
    "    plt.plot(history.history['val_accuracy'])\n",
    "    plt.title(title)\n",
    "    plt.ylabel('Accuracy')\n",
    "    plt.xlabel('Epoch')\n",
    "    plt.ylim(range[0], range[1])\n",
    "    plt.legend(['Train', 'Val'], loc='upper left')\n",
    "    plt.show()\n",
    "    \n",
    "def plot_loss(history, title=\"Model Loss\"):\n",
    "    \"\"\"Imprime una gráfica mostrando la pérdida por epoch obtenida en un entrenamiento\"\"\"\n",
    "    plt.plot(history.history['loss'])\n",
    "    plt.plot(history.history['val_loss'])\n",
    "    plt.title(title)\n",
    "    plt.ylabel('Loss')\n",
    "    plt.xlabel('Epoch')\n",
    "    plt.legend(['Train', 'Val'], loc='upper right')\n",
    "    plt.show()"
   ]
  },
  {
   "cell_type": "code",
   "execution_count": 4,
   "metadata": {},
   "outputs": [],
   "source": [
    "mainpath=\"../NSL-KDD/\"\n",
    "transformed_datasets_folder = \"transformed_datasets/\"\n",
    "file_complete_traffic = \"complete_traffic.csv\"\n",
    "csv_path = mainpath + transformed_datasets_folder + file_complete_traffic"
   ]
  },
  {
   "cell_type": "code",
   "execution_count": 5,
   "metadata": {},
   "outputs": [
    {
     "data": {
      "text/html": [
       "<div>\n",
       "<style scoped>\n",
       "    .dataframe tbody tr th:only-of-type {\n",
       "        vertical-align: middle;\n",
       "    }\n",
       "\n",
       "    .dataframe tbody tr th {\n",
       "        vertical-align: top;\n",
       "    }\n",
       "\n",
       "    .dataframe thead th {\n",
       "        text-align: right;\n",
       "    }\n",
       "</style>\n",
       "<table border=\"1\" class=\"dataframe\">\n",
       "  <thead>\n",
       "    <tr style=\"text-align: right;\">\n",
       "      <th></th>\n",
       "      <th>duration</th>\n",
       "      <th>protocol_type</th>\n",
       "      <th>service</th>\n",
       "      <th>flag</th>\n",
       "      <th>src_bytes</th>\n",
       "      <th>dst_bytes</th>\n",
       "      <th>land</th>\n",
       "      <th>wrong_fragment</th>\n",
       "      <th>urgent</th>\n",
       "      <th>hot</th>\n",
       "      <th>...</th>\n",
       "      <th>dst_host_srv_count</th>\n",
       "      <th>dst_host_same_srv_rate</th>\n",
       "      <th>dst_host_diff_srv_rate</th>\n",
       "      <th>dst_host_same_src_port_rate</th>\n",
       "      <th>dst_host_srv_diff_host_rate</th>\n",
       "      <th>dst_host_serror_rate</th>\n",
       "      <th>dst_host_srv_serror_rate</th>\n",
       "      <th>dst_host_rerror_rate</th>\n",
       "      <th>dst_host_srv_rerror_rate</th>\n",
       "      <th>class</th>\n",
       "    </tr>\n",
       "  </thead>\n",
       "  <tbody>\n",
       "    <tr>\n",
       "      <th>0</th>\n",
       "      <td>0.0</td>\n",
       "      <td>1</td>\n",
       "      <td>20</td>\n",
       "      <td>9</td>\n",
       "      <td>491.0</td>\n",
       "      <td>0.0</td>\n",
       "      <td>0</td>\n",
       "      <td>0.0</td>\n",
       "      <td>0.0</td>\n",
       "      <td>0.0</td>\n",
       "      <td>...</td>\n",
       "      <td>25.0</td>\n",
       "      <td>0.17</td>\n",
       "      <td>0.03</td>\n",
       "      <td>0.17</td>\n",
       "      <td>0.00</td>\n",
       "      <td>0.00</td>\n",
       "      <td>0.00</td>\n",
       "      <td>0.05</td>\n",
       "      <td>0.00</td>\n",
       "      <td>0</td>\n",
       "    </tr>\n",
       "    <tr>\n",
       "      <th>1</th>\n",
       "      <td>0.0</td>\n",
       "      <td>2</td>\n",
       "      <td>44</td>\n",
       "      <td>9</td>\n",
       "      <td>146.0</td>\n",
       "      <td>0.0</td>\n",
       "      <td>0</td>\n",
       "      <td>0.0</td>\n",
       "      <td>0.0</td>\n",
       "      <td>0.0</td>\n",
       "      <td>...</td>\n",
       "      <td>1.0</td>\n",
       "      <td>0.00</td>\n",
       "      <td>0.60</td>\n",
       "      <td>0.88</td>\n",
       "      <td>0.00</td>\n",
       "      <td>0.00</td>\n",
       "      <td>0.00</td>\n",
       "      <td>0.00</td>\n",
       "      <td>0.00</td>\n",
       "      <td>0</td>\n",
       "    </tr>\n",
       "    <tr>\n",
       "      <th>2</th>\n",
       "      <td>0.0</td>\n",
       "      <td>1</td>\n",
       "      <td>49</td>\n",
       "      <td>5</td>\n",
       "      <td>0.0</td>\n",
       "      <td>0.0</td>\n",
       "      <td>0</td>\n",
       "      <td>0.0</td>\n",
       "      <td>0.0</td>\n",
       "      <td>0.0</td>\n",
       "      <td>...</td>\n",
       "      <td>26.0</td>\n",
       "      <td>0.10</td>\n",
       "      <td>0.05</td>\n",
       "      <td>0.00</td>\n",
       "      <td>0.00</td>\n",
       "      <td>1.00</td>\n",
       "      <td>1.00</td>\n",
       "      <td>0.00</td>\n",
       "      <td>0.00</td>\n",
       "      <td>1</td>\n",
       "    </tr>\n",
       "    <tr>\n",
       "      <th>3</th>\n",
       "      <td>0.0</td>\n",
       "      <td>1</td>\n",
       "      <td>24</td>\n",
       "      <td>9</td>\n",
       "      <td>232.0</td>\n",
       "      <td>8153.0</td>\n",
       "      <td>0</td>\n",
       "      <td>0.0</td>\n",
       "      <td>0.0</td>\n",
       "      <td>0.0</td>\n",
       "      <td>...</td>\n",
       "      <td>255.0</td>\n",
       "      <td>1.00</td>\n",
       "      <td>0.00</td>\n",
       "      <td>0.03</td>\n",
       "      <td>0.04</td>\n",
       "      <td>0.03</td>\n",
       "      <td>0.01</td>\n",
       "      <td>0.00</td>\n",
       "      <td>0.01</td>\n",
       "      <td>0</td>\n",
       "    </tr>\n",
       "    <tr>\n",
       "      <th>4</th>\n",
       "      <td>0.0</td>\n",
       "      <td>1</td>\n",
       "      <td>24</td>\n",
       "      <td>9</td>\n",
       "      <td>199.0</td>\n",
       "      <td>420.0</td>\n",
       "      <td>0</td>\n",
       "      <td>0.0</td>\n",
       "      <td>0.0</td>\n",
       "      <td>0.0</td>\n",
       "      <td>...</td>\n",
       "      <td>255.0</td>\n",
       "      <td>1.00</td>\n",
       "      <td>0.00</td>\n",
       "      <td>0.00</td>\n",
       "      <td>0.00</td>\n",
       "      <td>0.00</td>\n",
       "      <td>0.00</td>\n",
       "      <td>0.00</td>\n",
       "      <td>0.00</td>\n",
       "      <td>0</td>\n",
       "    </tr>\n",
       "  </tbody>\n",
       "</table>\n",
       "<p>5 rows × 42 columns</p>\n",
       "</div>"
      ],
      "text/plain": [
       "   duration  protocol_type  service  flag  src_bytes  dst_bytes  land  \\\n",
       "0       0.0              1       20     9      491.0        0.0     0   \n",
       "1       0.0              2       44     9      146.0        0.0     0   \n",
       "2       0.0              1       49     5        0.0        0.0     0   \n",
       "3       0.0              1       24     9      232.0     8153.0     0   \n",
       "4       0.0              1       24     9      199.0      420.0     0   \n",
       "\n",
       "   wrong_fragment  urgent  hot  ...  dst_host_srv_count  \\\n",
       "0             0.0     0.0  0.0  ...                25.0   \n",
       "1             0.0     0.0  0.0  ...                 1.0   \n",
       "2             0.0     0.0  0.0  ...                26.0   \n",
       "3             0.0     0.0  0.0  ...               255.0   \n",
       "4             0.0     0.0  0.0  ...               255.0   \n",
       "\n",
       "   dst_host_same_srv_rate  dst_host_diff_srv_rate  \\\n",
       "0                    0.17                    0.03   \n",
       "1                    0.00                    0.60   \n",
       "2                    0.10                    0.05   \n",
       "3                    1.00                    0.00   \n",
       "4                    1.00                    0.00   \n",
       "\n",
       "   dst_host_same_src_port_rate  dst_host_srv_diff_host_rate  \\\n",
       "0                         0.17                         0.00   \n",
       "1                         0.88                         0.00   \n",
       "2                         0.00                         0.00   \n",
       "3                         0.03                         0.04   \n",
       "4                         0.00                         0.00   \n",
       "\n",
       "   dst_host_serror_rate  dst_host_srv_serror_rate  dst_host_rerror_rate  \\\n",
       "0                  0.00                      0.00                  0.05   \n",
       "1                  0.00                      0.00                  0.00   \n",
       "2                  1.00                      1.00                  0.00   \n",
       "3                  0.03                      0.01                  0.00   \n",
       "4                  0.00                      0.00                  0.00   \n",
       "\n",
       "   dst_host_srv_rerror_rate  class  \n",
       "0                      0.00      0  \n",
       "1                      0.00      0  \n",
       "2                      0.00      1  \n",
       "3                      0.01      0  \n",
       "4                      0.00      0  \n",
       "\n",
       "[5 rows x 42 columns]"
      ]
     },
     "execution_count": 5,
     "metadata": {},
     "output_type": "execute_result"
    }
   ],
   "source": [
    "df = pd.read_csv(csv_path)\n",
    "df.head()"
   ]
  },
  {
   "cell_type": "code",
   "execution_count": 6,
   "metadata": {},
   "outputs": [],
   "source": [
    "# Convert data frame into a numpy array and separate the features from the class column \n",
    "np_array = df.to_numpy()\n",
    "class_label = np_array[:, -1] # for last column\n",
    "data = np_array[:, :-1] # for all but last column"
   ]
  },
  {
   "cell_type": "code",
   "execution_count": 7,
   "metadata": {},
   "outputs": [
    {
     "name": "stdout",
     "output_type": "stream",
     "text": [
      "148517\n",
      "133665\n"
     ]
    }
   ],
   "source": [
    "# Split the data for training, validation and testing: 70%, 20%, 10%\n",
    "X_train, X_test, y_train, y_test = train_test_split(data, class_label, test_size=0.1, random_state=42)\n",
    "print(len(data))\n",
    "print(len(X_train))"
   ]
  },
  {
   "cell_type": "code",
   "execution_count": 8,
   "metadata": {},
   "outputs": [
    {
     "name": "stdout",
     "output_type": "stream",
     "text": [
      "30743\n",
      "102922\n"
     ]
    }
   ],
   "source": [
    "# 0,9*0,23 = 0,207\n",
    "X_train, X_val, y_train, y_val  = train_test_split(X_train, y_train, test_size=0.23, random_state=42)\n",
    "print(len(X_val))\n",
    "print(len(X_train))"
   ]
  },
  {
   "cell_type": "code",
   "execution_count": 9,
   "metadata": {},
   "outputs": [],
   "source": [
    "# One hot encoding \n",
    "y_train = to_categorical(y_train)\n",
    "y_val = to_categorical(y_val)"
   ]
  },
  {
   "cell_type": "code",
   "execution_count": 10,
   "metadata": {},
   "outputs": [],
   "source": [
    "# Normalize data \n",
    "X_train = preprocessing.normalize(X_train,norm='l2')\n",
    "X_test = preprocessing.normalize(X_test,norm='l2')\n",
    "X_val = preprocessing.normalize(X_val,norm='l2')"
   ]
  },
  {
   "cell_type": "code",
   "execution_count": 11,
   "metadata": {},
   "outputs": [],
   "source": [
    "# Network Parameters\n",
    "batch_size = 64\n",
    "epochs = 50\n",
    "hidden_units_1 = 16\n",
    "hidden_units_2 = 8\n",
    "hidden_units_3 = 8\n",
    "hidden_units_4 = 64\n",
    "num_labels = len(np.unique(y_train, return_counts=False))\n",
    "input_size = data.shape[1]\n",
    "activation_type = \"relu\"\n",
    "kernel_init = \"glorot_uniform\"\n",
    "patience = 5\n",
    "regularization_parameter = 0.0001\n",
    "dropout_parameter = 0.4\n"
   ]
  },
  {
   "cell_type": "code",
   "execution_count": 12,
   "metadata": {},
   "outputs": [],
   "source": [
    "model = Sequential([\n",
    "    Dense(hidden_units_1, input_dim=input_size, activation=activation_type, kernel_initializer=kernel_init,  \n",
    "          kernel_regularizer=tf.keras.regularizers.l1(regularization_parameter)\n",
    "      ),\n",
    "    Dropout(dropout_parameter),\n",
    "    Dense(hidden_units_2, activation=activation_type, kernel_initializer=kernel_init, \n",
    "          kernel_regularizer=tf.keras.regularizers.l1(regularization_parameter) \n",
    "    ),\n",
    "    Dense(num_labels, activation='softmax')\n",
    "])"
   ]
  },
  {
   "cell_type": "code",
   "execution_count": 13,
   "metadata": {},
   "outputs": [],
   "source": [
    "model.compile(loss='categorical_crossentropy', optimizer=\"adam\",metrics=['accuracy'])"
   ]
  },
  {
   "cell_type": "code",
   "execution_count": 14,
   "metadata": {},
   "outputs": [],
   "source": [
    "es = EarlyStopping(monitor='val_loss', mode='min', verbose=1, patience=patience)"
   ]
  },
  {
   "cell_type": "code",
   "execution_count": 15,
   "metadata": {},
   "outputs": [
    {
     "name": "stdout",
     "output_type": "stream",
     "text": [
      "Epoch 1/50\n",
      "1609/1609 [==============================] - 22s 11ms/step - loss: 0.2893 - accuracy: 0.8868 - val_loss: 0.2008 - val_accuracy: 0.9286\n",
      "Epoch 2/50\n",
      "1609/1609 [==============================] - 17s 11ms/step - loss: 0.2123 - accuracy: 0.9147 - val_loss: 0.1726 - val_accuracy: 0.9361\n",
      "Epoch 3/50\n",
      "1609/1609 [==============================] - 18s 11ms/step - loss: 0.1932 - accuracy: 0.9236 - val_loss: 0.1599 - val_accuracy: 0.9407\n",
      "Epoch 4/50\n",
      "1609/1609 [==============================] - 16s 10ms/step - loss: 0.1839 - accuracy: 0.9281 - val_loss: 0.1513 - val_accuracy: 0.9391\n",
      "Epoch 5/50\n",
      "1609/1609 [==============================] - 18s 11ms/step - loss: 0.1751 - accuracy: 0.9323 - val_loss: 0.1433 - val_accuracy: 0.9473\n",
      "Epoch 6/50\n",
      "1609/1609 [==============================] - 16s 10ms/step - loss: 0.1699 - accuracy: 0.9350 - val_loss: 0.1389 - val_accuracy: 0.9498\n",
      "Epoch 7/50\n",
      "1609/1609 [==============================] - 17s 10ms/step - loss: 0.1656 - accuracy: 0.9369 - val_loss: 0.1347 - val_accuracy: 0.9499\n",
      "Epoch 8/50\n",
      "1609/1609 [==============================] - 19s 12ms/step - loss: 0.1630 - accuracy: 0.9393 - val_loss: 0.1320 - val_accuracy: 0.9575\n",
      "Epoch 9/50\n",
      "1609/1609 [==============================] - 16s 10ms/step - loss: 0.1600 - accuracy: 0.9407 - val_loss: 0.1301 - val_accuracy: 0.9497\n",
      "Epoch 10/50\n",
      "1609/1609 [==============================] - 14s 9ms/step - loss: 0.1573 - accuracy: 0.9426 - val_loss: 0.1301 - val_accuracy: 0.9610\n",
      "Epoch 11/50\n",
      "1609/1609 [==============================] - 15s 9ms/step - loss: 0.1558 - accuracy: 0.9436 - val_loss: 0.1253 - val_accuracy: 0.9588\n",
      "Epoch 12/50\n",
      "1609/1609 [==============================] - 15s 9ms/step - loss: 0.1535 - accuracy: 0.9446 - val_loss: 0.1238 - val_accuracy: 0.9597\n",
      "Epoch 13/50\n",
      "1609/1609 [==============================] - 16s 10ms/step - loss: 0.1527 - accuracy: 0.9454 - val_loss: 0.1249 - val_accuracy: 0.9635\n",
      "Epoch 14/50\n",
      "1609/1609 [==============================] - 15s 9ms/step - loss: 0.1510 - accuracy: 0.9460 - val_loss: 0.1256 - val_accuracy: 0.9614\n",
      "Epoch 15/50\n",
      "1609/1609 [==============================] - 15s 9ms/step - loss: 0.1495 - accuracy: 0.9464 - val_loss: 0.1256 - val_accuracy: 0.9615\n",
      "Epoch 16/50\n",
      "1609/1609 [==============================] - 16s 10ms/step - loss: 0.1498 - accuracy: 0.9466 - val_loss: 0.1245 - val_accuracy: 0.9594\n",
      "Epoch 17/50\n",
      "1609/1609 [==============================] - 14s 9ms/step - loss: 0.1481 - accuracy: 0.9475 - val_loss: 0.1214 - val_accuracy: 0.9602\n",
      "Epoch 18/50\n",
      "1609/1609 [==============================] - 16s 10ms/step - loss: 0.1468 - accuracy: 0.9480 - val_loss: 0.1220 - val_accuracy: 0.9615\n",
      "Epoch 19/50\n",
      "1609/1609 [==============================] - 14s 9ms/step - loss: 0.1454 - accuracy: 0.9485 - val_loss: 0.1204 - val_accuracy: 0.9629\n",
      "Epoch 20/50\n",
      "1609/1609 [==============================] - 19s 12ms/step - loss: 0.1465 - accuracy: 0.9487 - val_loss: 0.1193 - val_accuracy: 0.9624\n",
      "Epoch 21/50\n",
      "1609/1609 [==============================] - 15s 9ms/step - loss: 0.1446 - accuracy: 0.9493 - val_loss: 0.1178 - val_accuracy: 0.9646\n",
      "Epoch 22/50\n",
      "1609/1609 [==============================] - 24s 15ms/step - loss: 0.1437 - accuracy: 0.9502 - val_loss: 0.1197 - val_accuracy: 0.9630\n",
      "Epoch 23/50\n",
      "1609/1609 [==============================] - 22s 14ms/step - loss: 0.1442 - accuracy: 0.9490 - val_loss: 0.1156 - val_accuracy: 0.9665\n",
      "Epoch 24/50\n",
      "1609/1609 [==============================] - 20s 13ms/step - loss: 0.1429 - accuracy: 0.9495 - val_loss: 0.1217 - val_accuracy: 0.9611\n",
      "Epoch 25/50\n",
      "1609/1609 [==============================] - 19s 12ms/step - loss: 0.1420 - accuracy: 0.9502 - val_loss: 0.1190 - val_accuracy: 0.9616\n",
      "Epoch 26/50\n",
      "1609/1609 [==============================] - 21s 13ms/step - loss: 0.1414 - accuracy: 0.9507 - val_loss: 0.1193 - val_accuracy: 0.9616\n",
      "Epoch 27/50\n",
      "1609/1609 [==============================] - 20s 13ms/step - loss: 0.1415 - accuracy: 0.9510 - val_loss: 0.1216 - val_accuracy: 0.9638\n",
      "Epoch 28/50\n",
      "1609/1609 [==============================] - 17s 10ms/step - loss: 0.1418 - accuracy: 0.9509 - val_loss: 0.1176 - val_accuracy: 0.9653\n",
      "Epoch 00028: early stopping\n"
     ]
    }
   ],
   "source": [
    "history = model.fit(X_train, y_train, \n",
    "              epochs=epochs, \n",
    "              validation_data=(X_val, y_val),\n",
    "              batch_size=batch_size,\n",
    "              callbacks=[es]\n",
    "          )"
   ]
  },
  {
   "cell_type": "code",
   "execution_count": 25,
   "metadata": {},
   "outputs": [
    {
     "data": {
      "image/png": "[encoded data removed]",
      "text/plain": [
       "<Figure size 432x288 with 1 Axes>"
      ]
     },
     "metadata": {
      "needs_background": "light"
     },
     "output_type": "display_data"
    },
    {
     "data": {
      "image/png": "[encoded data removed]",
      "text/plain": [
       "<Figure size 432x288 with 1 Axes>"
      ]
     },
     "metadata": {
      "needs_background": "light"
     },
     "output_type": "display_data"
    }
   ],
   "source": [
    "plot_acc(history, range=[0.8,1])\n",
    "plot_loss(history)"
   ]
  },
  {
   "cell_type": "code",
   "execution_count": 17,
   "metadata": {},
   "outputs": [
    {
     "name": "stdout",
     "output_type": "stream",
     "text": [
      "233/233 [==============================] - 1s 6ms/step - loss: 0.1222 - accuracy: 0.9609\n",
      "Accuracy Test sample: 96.1%\n"
     ]
    }
   ],
   "source": [
    "y_test_cat = to_categorical(y_test)\n",
    "_, acc = model.evaluate(X_test, y_test_cat, batch_size=batch_size)\n",
    "print(\"Accuracy Test sample: %.1f%%\" % (100.0 * acc))"
   ]
  },
  {
   "cell_type": "code",
   "execution_count": 18,
   "metadata": {},
   "outputs": [],
   "source": [
    "# predict classes for test set\n",
    "y_predicted_classes = np.argmax(model.predict(X_test), axis=-1)"
   ]
  },
  {
   "cell_type": "code",
   "execution_count": 19,
   "metadata": {},
   "outputs": [
    {
     "name": "stdout",
     "output_type": "stream",
     "text": [
      "Accuracy Test sample: 96.1%\n",
      "Precision Test sample: 95.9%\n",
      "Recall Test sample: 95.9%\n",
      "F1 score Test sample: 95.9%\n"
     ]
    }
   ],
   "source": [
    "# accuracy: (tp + tn) / (p + n)\n",
    "accuracy = accuracy_score(y_test, y_predicted_classes)\n",
    "print(\"Accuracy Test sample: %.1f%%\" % (100.0 * accuracy))\n",
    "\n",
    "# precision tp / (tp + fp)\n",
    "precision = precision_score(y_test, y_predicted_classes)\n",
    "print(\"Precision Test sample: %.1f%%\" % (100.0 * precision))\n",
    "\n",
    "# recall: tp / (tp + fn)\n",
    "recall = recall_score(y_test, y_predicted_classes)\n",
    "print(\"Recall Test sample: %.1f%%\" % (100.0 * recall))\n",
    "\n",
    "# f1: 2 tp / (2 tp + fp + fn)\n",
    "f1 = f1_score(y_test, y_predicted_classes)\n",
    "print(\"F1 score Test sample: %.1f%%\" % (100.0 * f1))"
   ]
  }
 ],
 "metadata": {
  "interpreter": {
   "hash": "36abd7d1b7dbc5692ba9d1c22153e50a482f68c0f1d917d7a39ad57557cd2160"
  },
  "kernelspec": {
   "display_name": "Python 3.9.7 ('tf_gpu')",
   "language": "python",
   "name": "python3"
  },
  "language_info": {
   "codemirror_mode": {
    "name": "ipython",
    "version": 3
   },
   "file_extension": ".py",
   "mimetype": "text/x-python",
   "name": "python",
   "nbconvert_exporter": "python",
   "pygments_lexer": "ipython3",
   "version": "3.9.7"
  },
  "orig_nbformat": 4
 },
 "nbformat": 4,
 "nbformat_minor": 2
}
