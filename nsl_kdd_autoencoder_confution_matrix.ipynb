{
 "cells": [
  {
   "cell_type": "code",
   "execution_count": 1,
   "metadata": {},
   "outputs": [],
   "source": [
    "import numpy as np\n",
    "import pandas as pd\n",
    "import seaborn as sns\n",
    "\n",
    "import matplotlib.pyplot as plt\n",
    "\n",
    "from sklearn import  preprocessing\n",
    "from sklearn.metrics import mean_squared_error\n",
    "from sklearn.metrics import confusion_matrix\n",
    "from sklearn.metrics import accuracy_score\n",
    "from sklearn.metrics import precision_score\n",
    "from sklearn.metrics import recall_score\n",
    "from sklearn.metrics import f1_score\n",
    "\n",
    "import tensorflow as tf\n",
    "from tensorflow.keras.models import load_model"
   ]
  },
  {
   "cell_type": "code",
   "execution_count": 2,
   "metadata": {},
   "outputs": [
    {
     "name": "stdout",
     "output_type": "stream",
     "text": [
      "Num GPUs Available:  1\n",
      "[PhysicalDevice(name='/physical_device:GPU:0', device_type='GPU')]\n"
     ]
    }
   ],
   "source": [
    "print(\"Num GPUs Available: \", len(tf.config.list_physical_devices('GPU')))\n",
    "print(tf.config.list_physical_devices('GPU'))"
   ]
  },
  {
   "cell_type": "code",
   "execution_count": 3,
   "metadata": {},
   "outputs": [],
   "source": [
    "def score_pred(model, X, text):\n",
    "    pred = model.predict(X)\n",
    "    score = np.sqrt(mean_squared_error(pred,X))\n",
    "    print(f\"{text} (RMSE): {score}\")\n",
    "    return pred\n",
    "    \n",
    "def standardization_by_duration(matrix, duration_fraction):\n",
    "    # duration = 10s \n",
    "    # duration fraction = 0.2\n",
    "    # sample time = duration * param time\n",
    "    # bits per second = 10 bps\n",
    "    # In 10s there are 100bps\n",
    "\n",
    "    # 20%´s duration is 2s, in that time there would 2bps\n",
    "    # To standarize the values in relation to the duration\n",
    "    # the equation should be: (bits per second)bps * (sample time)s /(duration)s\n",
    "\n",
    "    duration = matrix[:,0] \n",
    "    sample_time = duration * duration_fraction\n",
    "    standarized_matrix = (matrix * sample_time[:,None]) / duration[:,None]\n",
    "    \n",
    "    standarized_matrix[:,0]  = sample_time\n",
    "    return standarized_matrix"
   ]
  },
  {
   "cell_type": "code",
   "execution_count": 4,
   "metadata": {},
   "outputs": [],
   "source": [
    "mainpath=\"../NSL-KDD/\"\n",
    "transformed_datasets_folder = \"transformed_datasets/\"\n",
    "tuned_complete_traffic = \"complete_trafic_retocado.csv\"\n",
    "file_anomaly_traffic = \"anomaly_traffic.csv\"\n",
    "model_path = \"../anomaly_model\"\n",
    "\n",
    "csv_tuned_traffic_path = mainpath + transformed_datasets_folder + tuned_complete_traffic"
   ]
  },
  {
   "cell_type": "code",
   "execution_count": 5,
   "metadata": {},
   "outputs": [],
   "source": [
    "df_tuned_traffic = pd.read_csv(csv_tuned_traffic_path)\n",
    "df_tuned_traffic.drop('Unnamed: 0',axis=1,inplace=True)"
   ]
  },
  {
   "cell_type": "code",
   "execution_count": 6,
   "metadata": {},
   "outputs": [],
   "source": [
    "np_array = df_tuned_traffic.to_numpy()\n",
    "#np_array = np.random.shuffle(np_array)\n",
    "class_label = np_array[:, -1] # for last column\n",
    "data = np_array[:, :-1] # for all but last column\n",
    "data = preprocessing.normalize(data,norm='l2')"
   ]
  },
  {
   "cell_type": "code",
   "execution_count": 7,
   "metadata": {},
   "outputs": [],
   "source": [
    "model = load_model(model_path)\n",
    "pred = model.predict(standardization_by_duration(data, 0.8))"
   ]
  },
  {
   "cell_type": "code",
   "execution_count": 8,
   "metadata": {},
   "outputs": [
    {
     "name": "stdout",
     "output_type": "stream",
     "text": [
      "[0.06368987 0.0284185  0.0369994  ... 0.04405494 0.01970106 0.04263338]\n"
     ]
    }
   ],
   "source": [
    "square_diff = np.square( data - pred)\n",
    "rmse_values = np.sqrt(square_diff.mean(axis=1))\n",
    "print(rmse_values)"
   ]
  },
  {
   "cell_type": "code",
   "execution_count": 9,
   "metadata": {},
   "outputs": [
    {
     "name": "stdout",
     "output_type": "stream",
     "text": [
      "[1. 0. 0. ... 1. 0. 1.]\n",
      "[0. 0. 0. ... 1. 0. 1.]\n"
     ]
    }
   ],
   "source": [
    "tmp_arr = np.where((rmse_values >= 0.040), 1, rmse_values)\n",
    "predicted_class_label = np.where( rmse_values < 0.040, 0, tmp_arr)\n",
    "print(predicted_class_label)\n",
    "print(class_label)"
   ]
  },
  {
   "cell_type": "code",
   "execution_count": 10,
   "metadata": {},
   "outputs": [],
   "source": [
    "X_samples = standardization_by_duration(data, 0.8)\n",
    "X_sample_normal = X_samples[1]\n",
    "X_sample_anomaly = X_samples[-1]"
   ]
  },
  {
   "cell_type": "code",
   "execution_count": 16,
   "metadata": {},
   "outputs": [
    {
     "name": "stdout",
     "output_type": "stream",
     "text": [
      "Ejemplo de una muestra de tráfico normal (RMSE): 0.038830720628689086\n",
      "\n",
      "duration                         507.00\n",
      "protocol_type                      1.00\n",
      "service                           60.00\n",
      "flag                               9.00\n",
      "src_bytes                        437.00\n",
      "dst_bytes                      14421.00\n",
      "land                               0.00\n",
      "wrong_fragment                     0.00\n",
      "urgent                             0.00\n",
      "hot                                0.00\n",
      "num_failed_logins                  0.00\n",
      "logged_in                          1.00\n",
      "num_compromised                    3.00\n",
      "root_shell                         0.00\n",
      "su_attempted                       0.00\n",
      "num_root                           0.00\n",
      "num_file_creations                 0.00\n",
      "num_shells                         0.00\n",
      "num_access_files                   1.00\n",
      "num_outbound_cmds                  0.00\n",
      "is_host_login                      0.00\n",
      "is_guest_login                     0.00\n",
      "count                              1.00\n",
      "srv_count                          1.00\n",
      "serror_rate                        0.00\n",
      "srv_serror_rate                    0.00\n",
      "rerror_rate                        0.00\n",
      "srv_rerror_rate                    0.00\n",
      "same_srv_rate                      1.00\n",
      "diff_srv_rate                      0.00\n",
      "srv_diff_host_rate                 0.00\n",
      "dst_host_count                   255.00\n",
      "dst_host_srv_count                25.00\n",
      "dst_host_same_srv_rate             0.10\n",
      "dst_host_diff_srv_rate             0.05\n",
      "dst_host_same_src_port_rate        0.00\n",
      "dst_host_srv_diff_host_rate        0.00\n",
      "dst_host_serror_rate               0.53\n",
      "dst_host_srv_serror_rate           0.00\n",
      "dst_host_rerror_rate               0.02\n",
      "dst_host_srv_rerror_rate           0.16\n",
      "class                              0.00\n",
      "Name: 1, dtype: float64\n"
     ]
    }
   ],
   "source": [
    "pred_sample = model.predict( np.array( [X_sample_normal,] )) \n",
    "score_sample = np.sqrt(mean_squared_error(pred_sample, np.array( [X_sample_normal,])))\n",
    "print(f\"Ejemplo de una muestra de tráfico normal (RMSE): {score_sample}\\n\")\n",
    "print(df_tuned_traffic.loc[1])"
   ]
  },
  {
   "cell_type": "code",
   "execution_count": 17,
   "metadata": {},
   "outputs": [
    {
     "name": "stdout",
     "output_type": "stream",
     "text": [
      "Ejemplo de una muestra de tráfico anomalo (RMSE): 0.0429349520338451\n",
      "\n",
      "duration                         0.90\n",
      "protocol_type                    1.00\n",
      "service                         57.00\n",
      "flag                             1.00\n",
      "src_bytes                        0.00\n",
      "dst_bytes                        0.00\n",
      "land                             0.00\n",
      "wrong_fragment                   0.00\n",
      "urgent                           0.00\n",
      "hot                              0.00\n",
      "num_failed_logins                0.00\n",
      "logged_in                        0.00\n",
      "num_compromised                  0.00\n",
      "root_shell                       0.00\n",
      "su_attempted                     0.00\n",
      "num_root                         0.00\n",
      "num_file_creations               0.00\n",
      "num_shells                       0.00\n",
      "num_access_files                 0.00\n",
      "num_outbound_cmds                0.00\n",
      "is_host_login                    0.00\n",
      "is_guest_login                   0.00\n",
      "count                            4.00\n",
      "srv_count                       10.00\n",
      "serror_rate                      0.00\n",
      "srv_serror_rate                  0.00\n",
      "rerror_rate                      1.00\n",
      "srv_rerror_rate                  1.00\n",
      "same_srv_rate                    0.25\n",
      "diff_srv_rate                    1.00\n",
      "srv_diff_host_rate               1.00\n",
      "dst_host_count                 255.00\n",
      "dst_host_srv_count              21.00\n",
      "dst_host_same_srv_rate           0.08\n",
      "dst_host_diff_srv_rate           0.03\n",
      "dst_host_same_src_port_rate      0.00\n",
      "dst_host_srv_diff_host_rate      0.00\n",
      "dst_host_serror_rate             0.00\n",
      "dst_host_srv_serror_rate         0.00\n",
      "dst_host_rerror_rate             0.44\n",
      "dst_host_srv_rerror_rate         1.00\n",
      "class                            1.00\n",
      "Name: 148516, dtype: float64\n"
     ]
    }
   ],
   "source": [
    "pred_sample = model.predict( np.array( [X_sample_anomaly,] )) \n",
    "score_sample = np.sqrt(mean_squared_error(pred_sample, np.array( [X_sample_anomaly,])))\n",
    "print(f\"Ejemplo de una muestra de tráfico anomalo (RMSE): {score_sample}\\n\")\n",
    "print(df_tuned_traffic.iloc[-1])"
   ]
  },
  {
   "cell_type": "code",
   "execution_count": 13,
   "metadata": {},
   "outputs": [
    {
     "name": "stdout",
     "output_type": "stream",
     "text": [
      "[[68084  8970]\n",
      " [10011 61452]]\n",
      "68084 8970 10011 61452\n"
     ]
    }
   ],
   "source": [
    "cf_matrix = confusion_matrix(class_label, predicted_class_label)\n",
    "print(cf_matrix)\n",
    "tn, fp, fn, tp = confusion_matrix(class_label, predicted_class_label).ravel()\n",
    "print(tn, fp, fn, tp)"
   ]
  },
  {
   "cell_type": "code",
   "execution_count": 14,
   "metadata": {},
   "outputs": [
    {
     "data": {
      "image/png": "[encoded data removed]",
      "text/plain": [
       "<Figure size 432x288 with 2 Axes>"
      ]
     },
     "metadata": {
      "needs_background": "light"
     },
     "output_type": "display_data"
    }
   ],
   "source": [
    "group_names = ['True Neg','False Pos','False Neg','True Pos']\n",
    "group_counts = [\"{0:0.0f}\".format(value) for value in\n",
    "cf_matrix.flatten()]\n",
    "group_percentages = [\"{0:.2%}\".format(value) for value in\n",
    "cf_matrix.flatten()/np.sum(cf_matrix)]\n",
    "labels = [f\"{v1}\\n{v2}\\n{v3}\" for v1, v2, v3 in\n",
    "zip(group_names,group_counts,group_percentages)]\n",
    "labels = np.asarray(labels).reshape(2,2)\n",
    "ax = sns.heatmap(cf_matrix, annot=labels, fmt='', cmap='Blues')\n",
    "ax.set_title('Seaborn Confusion Matrix with labels\\n\\n');\n",
    "ax.set_xlabel('\\nPredicted Values')\n",
    "ax.set_ylabel('Actual Values ');\n",
    "## Ticket labels - List must be in alphabetical order\n",
    "ax.xaxis.set_ticklabels(['False','True'])\n",
    "ax.yaxis.set_ticklabels(['False','True'])\n",
    "## Display the visualization of the Confusion Matrix.\n",
    "plt.show()"
   ]
  },
  {
   "cell_type": "code",
   "execution_count": 15,
   "metadata": {},
   "outputs": [
    {
     "name": "stdout",
     "output_type": "stream",
     "text": [
      "Accuracy Test sample: 87.2%\n",
      "Precision Test sample: 87.3%\n",
      "Recall Test sample: 86.0%\n",
      "F1 score Test sample: 86.6%\n"
     ]
    }
   ],
   "source": [
    "# accuracy: (tp + tn) / (p + n)\n",
    "accuracy = accuracy_score(class_label, predicted_class_label)\n",
    "print(\"Accuracy Test sample: %.1f%%\" % (100.0 * accuracy))\n",
    "\n",
    "# precision tp / (tp + fp)\n",
    "precision = precision_score(class_label, predicted_class_label)\n",
    "print(\"Precision Test sample: %.1f%%\" % (100.0 * precision))\n",
    "\n",
    "# recall: tp / (tp + fn)\n",
    "recall = recall_score(class_label, predicted_class_label)\n",
    "print(\"Recall Test sample: %.1f%%\" % (100.0 * recall))\n",
    "\n",
    "# f1: 2 tp / (2 tp + fp + fn)\n",
    "f1 = f1_score(class_label, predicted_class_label)\n",
    "print(\"F1 score Test sample: %.1f%%\" % (100.0 * f1))"
   ]
  }
 ],
 "metadata": {
  "interpreter": {
   "hash": "36abd7d1b7dbc5692ba9d1c22153e50a482f68c0f1d917d7a39ad57557cd2160"
  },
  "kernelspec": {
   "display_name": "Python 3.9.7 ('tf_gpu')",
   "language": "python",
   "name": "python3"
  },
  "language_info": {
   "codemirror_mode": {
    "name": "ipython",
    "version": 3
   },
   "file_extension": ".py",
   "mimetype": "text/x-python",
   "name": "python",
   "nbconvert_exporter": "python",
   "pygments_lexer": "ipython3",
   "version": "3.9.7"
  },
  "orig_nbformat": 4
 },
 "nbformat": 4,
 "nbformat_minor": 2
}
